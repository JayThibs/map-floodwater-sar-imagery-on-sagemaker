{
  "nbformat": 4,
  "nbformat_minor": 0,
  "metadata": {
    "colab": {
      "name": "floodwater_mapping_colab_vscode_login.ipynb",
      "provenance": [],
      "collapsed_sections": [],
      "machine_shape": "hm",
      "authorship_tag": "ABX9TyOWeUcGnIAiR2OajNDfdusA",
      "include_colab_link": true
    },
    "kernelspec": {
      "name": "python3",
      "display_name": "Python 3"
    },
    "language_info": {
      "name": "python"
    },
    "accelerator": "GPU"
  },
  "cells": [
    {
      "cell_type": "markdown",
      "metadata": {
        "id": "view-in-github",
        "colab_type": "text"
      },
      "source": [
        "<a href=\"https://colab.research.google.com/github/JayThibs/map-floodwater-drivendata-competition/blob/main/notebooks/floodwater_mapping_colab_vscode_login.ipynb\" target=\"_parent\"><img src=\"https://colab.research.google.com/assets/colab-badge.svg\" alt=\"Open In Colab\"/></a>"
      ]
    },
    {
      "cell_type": "code",
      "metadata": {
        "colab": {
          "base_uri": "https://localhost:8080/"
        },
        "id": "Azlll2qWXeqK",
        "outputId": "ff41cda1-05e6-485d-f887-9d7e83ee2877"
      },
      "source": [
        "# installing pytorch lightning, and segmentation models to load pre-trained models\n",
        "!pip install pytorch-lightning==1.4.5 git+https://github.com/qubvel/segmentation_models.pytorch watermark --quiet\n",
        "\n",
        "# model monitoring\n",
        "!pip install wandb --quiet\n",
        "\n",
        "# Path style access for pandas\n",
        "!pip install pandas_path --quiet\n",
        "\n",
        "# For interacting with geospatial data\n",
        "!pip install rasterio --quiet\n",
        "\n",
        "# setting environment\n",
        "%env PYTHONPATH=.:$PYTHONPATH"
      ],
      "execution_count": 1,
      "outputs": [
        {
          "output_type": "stream",
          "name": "stdout",
          "text": [
            "\u001b[K     |████████████████████████████████| 19.3 MB 84 kB/s \n",
            "\u001b[?25henv: PYTHONPATH=.:$PYTHONPATH\n"
          ]
        }
      ]
    },
    {
      "cell_type": "code",
      "metadata": {
        "colab": {
          "base_uri": "https://localhost:8080/"
        },
        "id": "w8ewJrYAdOPW",
        "outputId": "bc86544e-7a63-4787-cec9-0a5d13be5a37"
      },
      "source": [
        "!pip install colabcode --quiet"
      ],
      "execution_count": 2,
      "outputs": [
        {
          "output_type": "stream",
          "name": "stdout",
          "text": [
            "\u001b[K     |████████████████████████████████| 745 kB 5.1 MB/s \n",
            "\u001b[K     |████████████████████████████████| 45 kB 2.9 MB/s \n",
            "\u001b[K     |████████████████████████████████| 8.3 MB 29.9 MB/s \n",
            "\u001b[K     |████████████████████████████████| 58 kB 5.7 MB/s \n",
            "\u001b[K     |████████████████████████████████| 393 kB 50.5 MB/s \n",
            "\u001b[K     |████████████████████████████████| 428 kB 65.6 MB/s \n",
            "\u001b[K     |████████████████████████████████| 54 kB 3.1 MB/s \n",
            "\u001b[K     |████████████████████████████████| 52 kB 1.5 MB/s \n",
            "\u001b[K     |████████████████████████████████| 78 kB 6.5 MB/s \n",
            "\u001b[K     |████████████████████████████████| 122 kB 57.9 MB/s \n",
            "\u001b[K     |████████████████████████████████| 122 kB 54.3 MB/s \n",
            "\u001b[K     |████████████████████████████████| 122 kB 60.7 MB/s \n",
            "\u001b[K     |████████████████████████████████| 122 kB 59.7 MB/s \n",
            "\u001b[K     |████████████████████████████████| 112 kB 56.6 MB/s \n",
            "\u001b[K     |████████████████████████████████| 56 kB 4.5 MB/s \n",
            "\u001b[?25h  Building wheel for pyngrok (setup.py) ... \u001b[?25l\u001b[?25hdone\n",
            "\u001b[31mERROR: pip's dependency resolver does not currently take into account all the packages that are installed. This behaviour is the source of the following dependency conflicts.\n",
            "google-colab 1.0.0 requires tornado~=5.1.0; python_version >= \"3.0\", but you have tornado 6.1 which is incompatible.\u001b[0m\n"
          ]
        }
      ]
    },
    {
      "cell_type": "code",
      "metadata": {
        "colab": {
          "background_save": true,
          "base_uri": "https://localhost:8080/"
        },
        "id": "3X9Zln7NevGn",
        "outputId": "d7b96d27-9fe2-403c-c988-9e515d8620a1"
      },
      "source": [
        "from colabcode import ColabCode\n",
        "ColabCode(port=10001, password='vscodecolab', mount_drive=True)"
      ],
      "execution_count": null,
      "outputs": [
        {
          "output_type": "stream",
          "name": "stdout",
          "text": [
            "Code Server can be accessed on: NgrokTunnel: \"https://a10c-35-196-113-202.ngrok.io\" -> \"http://localhost:10001\"\n",
            "Mounted at /content/drive\n",
            "[2021-09-26T21:26:53.302Z] info  code-server 3.10.2 387b12ef4ca404ffd39d84834e1f0776e9e3c005\n",
            "[2021-09-26T21:26:53.303Z] info  Using user-data-dir ~/.local/share/code-server\n",
            "[2021-09-26T21:26:53.318Z] info  Using config file ~/.config/code-server/config.yaml\n",
            "[2021-09-26T21:26:53.318Z] info  HTTP server listening on http://127.0.0.1:10001 \n",
            "[2021-09-26T21:26:53.318Z] info    - Authentication is enabled\n",
            "[2021-09-26T21:26:53.318Z] info      - Using password from $PASSWORD\n",
            "[2021-09-26T21:26:53.318Z] info    - Not serving HTTPS \n"
          ]
        }
      ]
    },
    {
      "cell_type": "code",
      "metadata": {
        "id": "4FiqvQ8E_28V"
      },
      "source": [
        ""
      ],
      "execution_count": null,
      "outputs": []
    }
  ]
}